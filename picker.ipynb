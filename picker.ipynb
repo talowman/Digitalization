{
 "cells": [
  {
   "cell_type": "code",
   "execution_count": 2,
   "metadata": {},
   "outputs": [],
   "source": [
    "import cv2\n",
    "import numpy as np\n",
    "# Specify the paths for the 2 files \n",
    "protoFile = \"pose_deploy_linevec_faster_4_stages.prototxt\"\n",
    "weightsFile = \"pose_iter_160000.caffemodel\"\n",
    "# Read the network into Memory \n",
    "net = cv2.dnn.readNetFromCaffe(protoFile, weightsFile)\n",
    "POSE_PAIRS = [\n",
    "\t[0,1],\n",
    "\t[1,2],\n",
    "\t[1,5],\n",
    "\t[2,3],\n",
    "\t[3,4],\n",
    "\t[5,6],\n",
    "\t[6,7],\n",
    "\t[1,14],\n",
    "\t[14,8],\n",
    "\t[14,11],\n",
    "\t[8,9],\n",
    "\t[9,10],\n",
    "\t[11,12],\n",
    "\t[12,13]\n",
    "]"
   ]
  },
  {
   "cell_type": "code",
   "execution_count": 3,
   "metadata": {},
   "outputs": [],
   "source": [
    "\n",
    "def getPosePrediction(image):\n",
    "\t# Specify the input image dimensions\n",
    "\tinWidth = 368\n",
    "\tinHeight = 368\n",
    "\n",
    "\t# Prepare the frame to be fed to the network \n",
    "\tinpBlob = cv2.dnn.blobFromImage( \n",
    "\t\timage, 1.0 / 255, (inWidth, inHeight), (0, 0, 0), swapRB=False, crop=False) \n",
    "\n",
    "\t# Set the prepared object as the input blob of the network \n",
    "\tnet.setInput(inpBlob)\n",
    "\treturn net.forward()"
   ]
  },
  {
   "cell_type": "code",
   "execution_count": 4,
   "metadata": {},
   "outputs": [],
   "source": [
    "def overlayPrediction(output, frame):\n",
    "\tH = output.shape[2] \n",
    "\tW = output.shape[3]\n",
    "\tthreshold = 0.1\n",
    "\theight, width, _ = frame.shape\n",
    "\t# Empty list to store the detected keypoints \n",
    "\tpoints = []\n",
    "\tfor i in range(15): \n",
    "\t\t# confidence map of corresponding body's part. \n",
    "\t\tprobMap = output[0, i, :, :] \n",
    "\n",
    "\t\t# Find global maxima of the probMap. \n",
    "\t\tminVal, prob, minLoc, point = cv2.minMaxLoc(probMap)\n",
    "\n",
    "\t\t# Scale the point to fit on the original image \n",
    "\t\tx = (width * point[0]) / W \n",
    "\t\ty = (height * point[1]) / H \n",
    "\n",
    "\t\tif prob > threshold: \n",
    "\t\t\tcv2.circle(frame, (int(x), int(y)), 15, (0, 255, 255), thickness=-1, lineType=cv2.FILLED) \n",
    "\t\t\tcv2.putText(frame, \"{}\".format(i), (int(x), int(y)), cv2.FONT_HERSHEY_SIMPLEX, 1.4, (0, 0, 255), 3, lineType=cv2.LINE_AA) \n",
    "\t\t\tpoints.append((int(x), int(y))) \n",
    "\t\telse: \n",
    "\t\t\tpoints.append(None)\n",
    "\n",
    "\n",
    "\tfor pair in POSE_PAIRS: \n",
    "\t\tpartA = pair[0]\n",
    "\t\tpartB = pair[1] \n",
    "\n",
    "\t\tif points[partA] and points[partB]: \n",
    "\t\t\tcv2.line(frame, points[partA], points[partB], (0, 255, 0), 3)\n",
    "\treturn points"
   ]
  },
  {
   "cell_type": "code",
   "execution_count": 89,
   "metadata": {},
   "outputs": [],
   "source": [
    "# Capturing the image we want to estimate pose on\n",
    "# it is saved locally too\n",
    "cam = cv2.VideoCapture(0)\n",
    "image = None\n",
    "while(True):\n",
    "    result, image = cam.read()\n",
    "    if result:\n",
    "        cv2.imshow(\"pose-prediction\", image)\n",
    "    if cv2.waitKey(1) & 0xFF == ord('q'):\n",
    "        cv2.imwrite(\"sample4.png\", image)\n",
    "        break\n",
    "cam.release()\n",
    "cv2.destroyAllWindows()"
   ]
  },
  {
   "cell_type": "code",
   "execution_count": 5,
   "metadata": {},
   "outputs": [],
   "source": [
    "images = {}\n",
    "# loop through num pictures, open and append\n",
    "numPics = 4\n",
    "for i in range(1, numPics + 1):\n",
    "    fileName = \"sample\" + str(i) + \".png\"\n",
    "    images[fileName] = {}\n",
    "    images[fileName][\"rawImage\"] = cv2.imread(fileName)\n"
   ]
  },
  {
   "cell_type": "code",
   "execution_count": 6,
   "metadata": {},
   "outputs": [],
   "source": [
    "# Do prediction on each\n",
    "def getImagePoints(image):\n",
    "    imageCopy = image[\"rawImage\"].copy()\n",
    "    output = getPosePrediction(imageCopy)\n",
    "    points = overlayPrediction(output, imageCopy)\n",
    "    image[\"points\"] = points\n",
    "    image[\"overlay\"] = imageCopy"
   ]
  },
  {
   "cell_type": "code",
   "execution_count": 8,
   "metadata": {},
   "outputs": [],
   "source": [
    "# View prediction\n",
    "def showImage(name, img):\n",
    "    while(True):\n",
    "        cv2.imshow(name, img)\n",
    "        if cv2.waitKey(1) & 0xFF == ord('q'):\n",
    "            break\n",
    "    cv2.destroyAllWindows()"
   ]
  },
  {
   "cell_type": "code",
   "execution_count": 32,
   "metadata": {},
   "outputs": [],
   "source": [
    "# Do eval on each\n",
    "\n",
    "# get points from wrist, shoulder, and hip\n",
    "\n",
    "#calculate angles needed\n",
    "def calculateAngle(anglePoints):\n",
    "    firstPoint = anglePoints[0]\n",
    "    secondPoint = anglePoints[1]\n",
    "    thirdPoint = anglePoints[2]\n",
    "    \n",
    "    ba = firstPoint - secondPoint\n",
    "    bc = thirdPoint - secondPoint\n",
    "    cosine_angle = np.dot(ba, bc) / (np.linalg.norm(ba) * np.linalg.norm(bc))\n",
    "    return np.degrees(np.arccos(cosine_angle))\n",
    "\n",
    "#get the points needed for angles\n",
    "def calculateImageAngles(image):\n",
    "    angles = {\n",
    "        \"left_hip_shoulder_wrist\": { \"pointsIdx\": [11,5,7] },\n",
    "        \"right_hip_shoulder_wrist\": { \"pointsIdx\": [8,2,4] },\n",
    "        \"left_shoulder_hip_vertical\": { \"pointsIdx\": [5,11], \"extendPoint\": 11 },\n",
    "        \"right_shoulder_hip_vertical\": { \"pointsIdx\": [2,8], \"extendPoint\": 8 }\n",
    "    }\n",
    "    points = image[\"points\"]\n",
    "    for angle in angles:\n",
    "        pIdxs = angles[angle][\"pointsIdx\"]\n",
    "        anglePoints = []\n",
    "        for pIdx in pIdxs:\n",
    "            if points[pIdx] != None:\n",
    "                anglePoints.append(np.array(points[pIdx]))\n",
    "\n",
    "        if \"extendPoint\" in angles[angle]:\n",
    "            extPointIdx = angles[angle][\"extendPoint\"]\n",
    "            if points[extPointIdx] != None:\n",
    "                extPoint = list(points[extPointIdx][:])\n",
    "                extPoint[1] += 30\n",
    "                anglePoints.append(np.array(extPoint))\n",
    "        \n",
    "        if len(anglePoints) != 3:\n",
    "            angles[angle][\"calculated\"] = None\n",
    "        else:\n",
    "            result = calculateAngle(anglePoints)\n",
    "            angles[angle][\"calculated\"] = result\n",
    "    image[\"angles\"] = angles"
   ]
  },
  {
   "cell_type": "code",
   "execution_count": 30,
   "metadata": {},
   "outputs": [],
   "source": [
    "#define angle ranges as optimal, okay, or suboptimal\n",
    "def getLeastOptimal(arg1, arg2, t):\n",
    "    if arg1 and arg2:\n",
    "        if t == \"L\":\n",
    "            return max([arg1, arg2])\n",
    "        elif t == \"S\":\n",
    "            return min([arg1, arg2])\n",
    "    elif arg1:\n",
    "        return arg1\n",
    "    return arg2\n",
    "\n",
    "def defineErgonomics(image):\n",
    "    leftWS = image[\"angles\"][\"left_hip_shoulder_wrist\"][\"calculated\"]\n",
    "    rightWS = image[\"angles\"][\"right_hip_shoulder_wrist\"][\"calculated\"]\n",
    "    leftHS = image[\"angles\"][\"left_shoulder_hip_vertical\"][\"calculated\"]\n",
    "    rightHS = image[\"angles\"][\"right_shoulder_hip_vertical\"][\"calculated\"]\n",
    "\n",
    "    WSCalc = getLeastOptimal(leftWS, rightWS, \"L\")\n",
    "    HSCalc = getLeastOptimal(leftHS, rightHS, \"S\")\n",
    "\n",
    "    WS = \"\"\n",
    "    if WSCalc == None or WSCalc > 90:\n",
    "        WS = \"okay\"\n",
    "    else:\n",
    "        WS = \"optimal\"\n",
    "\n",
    "    HS = \"\"\n",
    "    if HSCalc == None or HSCalc < 120:\n",
    "        HS = \"suboptimal\"\n",
    "    elif 120 <= HSCalc <= 160:\n",
    "        HS = \"okay\"\n",
    "    else:\n",
    "        HS = \"optimal\"\n",
    "\n",
    "    #categorize combination of movements into best, okay, or worst heights\n",
    "    score = \"\"\n",
    "    if HS == \"suboptimal\":\n",
    "        score = \"worst ergonomics\"\n",
    "    elif HS == \"optimal\" and WS == \"optimal\":\n",
    "        score = \"best ergonomics\"\n",
    "    else: \n",
    "        score = \"okay ergonomics\"\n",
    "    \n",
    "    image[\"ergonomics\"] = {\"score\": score, \"WSscore\": WS, \"HSscore\": HS }"
   ]
  },
  {
   "cell_type": "code",
   "execution_count": 31,
   "metadata": {},
   "outputs": [
    {
     "name": "stdout",
     "output_type": "stream",
     "text": [
      "Not enough points to calculate angle\n",
      "Not enough points to calculate angle\n",
      "best ergonomics\n"
     ]
    }
   ],
   "source": [
    "#  Test doing all calculations on all images\n",
    "for fileName, image in images.items():\n",
    "    getImagePoints(image)\n",
    "    calculateImageAngles(image)\n",
    "    defineErgonomics(image)\n",
    "\n",
    "#print(images[\"sample1.png\"][\"points\"])\n",
    "#print(images[\"sample1.png\"][\"angles\"])\n",
    "print(images[\"sample1.png\"][\"ergonomics\"][\"score\"])\n",
    "#showImage(\"overlay\", images[\"sample1.png\"][\"overlay\"])"
   ]
  },
  {
   "cell_type": "code",
   "execution_count": 39,
   "metadata": {},
   "outputs": [
    {
     "name": "stdout",
     "output_type": "stream",
     "text": [
      "sample1.png Hip Angle optimal Wrist Angle optimal score best ergonomics\n",
      "sample2.png Hip Angle optimal Wrist Angle okay score okay ergonomics\n",
      "sample3.png Hip Angle optimal Wrist Angle optimal score best ergonomics\n",
      "sample4.png Hip Angle okay Wrist Angle optimal score okay ergonomics\n"
     ]
    }
   ],
   "source": [
    "for image in images:\n",
    "    score = images[image][\"ergonomics\"][\"score\"]\n",
    "    hs = images[image][\"ergonomics\"][\"HSscore\"]\n",
    "    ws = images[image][\"ergonomics\"][\"WSscore\"]\n",
    "    print(image, \"Hip Angle\", hs, \",  Wrist Angle\", ws, \", score\", score)"
   ]
  },
  {
   "cell_type": "code",
   "execution_count": null,
   "metadata": {},
   "outputs": [],
   "source": []
  }
 ],
 "metadata": {
  "kernelspec": {
   "display_name": "Python 3",
   "language": "python",
   "name": "python3"
  },
  "language_info": {
   "codemirror_mode": {
    "name": "ipython",
    "version": 3
   },
   "file_extension": ".py",
   "mimetype": "text/x-python",
   "name": "python",
   "nbconvert_exporter": "python",
   "pygments_lexer": "ipython3",
   "version": "3.11.9"
  }
 },
 "nbformat": 4,
 "nbformat_minor": 2
}
